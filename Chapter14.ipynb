{
 "cells": [
  {
   "cell_type": "markdown",
   "metadata": {},
   "source": [
    "# 典型資料分析案例\n",
    "## 利用Python實現報表自動化"
   ]
  },
  {
   "cell_type": "code",
   "execution_count": 1,
   "metadata": {},
   "outputs": [
    {
     "name": "stdout",
     "output_type": "stream",
     "text": [
      "<class 'pandas.core.frame.DataFrame'>\n",
      "RangeIndex: 3744 entries, 0 to 3743\n",
      "Data columns (total 7 columns):\n",
      "商品ID    3478 non-null float64\n",
      "類別ID    3478 non-null float64\n",
      "門市編號    3478 non-null object\n",
      "單價      3478 non-null float64\n",
      "銷量      3478 non-null float64\n",
      "成交時間    3478 non-null datetime64[ns]\n",
      "訂單ID    3478 non-null object\n",
      "dtypes: datetime64[ns](1), float64(4), object(2)\n",
      "memory usage: 204.8+ KB\n"
     ]
    }
   ],
   "source": [
    "# 匯入來源資料\n",
    "import pandas as pd\n",
    "from datetime import datetime\n",
    "data = pd.read_csv(r\"C:\\ACD019600\\data\\order-14.1.csv\",\n",
    "                   parse_dates = [\"成交時間\"])\n",
    "data.head()  #預覽數據\n",
    "data.info()  #查看來源資料類型"
   ]
  },
  {
   "cell_type": "code",
   "execution_count": 2,
   "metadata": {},
   "outputs": [
    {
     "name": "stdout",
     "output_type": "stream",
     "text": [
      "本月銷售額為:10412.78,客流量為:343, 客單價為:30.36\n"
     ]
    }
   ],
   "source": [
    "# 計算本月相關指標\n",
    "This_month = data[(data[\"成交時間\"] >= datetime(2018,2,1))&\n",
    "                (data[\"成交時間\"] <= datetime(2018,2,28))]\n",
    "sales_1 = (This_month[\"銷量\"]*This_month[\"單價\"]).sum()#銷售額計算\n",
    "#客流量計算\n",
    "traffic_1 = This_month[\"訂單ID\"].drop_duplicates().count()\n",
    "s_t_1 = sales_1/traffic_1#客單價計算\n",
    "print(\"本月銷售額為:{:.2f},客流量為:{}, 客單價為:{:.2f}\".format(sales_1,traffic_1,s_t_1))"
   ]
  },
  {
   "cell_type": "code",
   "execution_count": 3,
   "metadata": {},
   "outputs": [
    {
     "name": "stdout",
     "output_type": "stream",
     "text": [
      "本月銷售額為:9940.97,客流量為:315, 客單價為:31.56\n"
     ]
    }
   ],
   "source": [
    "# 計算上月相關指標\n",
    "last_month = data[(data[\"成交時間\"] >= datetime(2018,1,1))&\n",
    "                (data[\"成交時間\"] <= datetime(2018,1,31))]\n",
    "sales_2 = (last_month[\"銷量\"]*last_month[\"單價\"]).sum() #銷售額計算\n",
    "\n",
    "#客流量計算\n",
    "traffic_2 = last_month[\"訂單ID\"].drop_duplicates().count()\n",
    "s_t_2 = sales_2/traffic_2 #客單價計算\n",
    "print(\"本月銷售額為:{:.2f},客流量為:{}, 客單價為:{:.2f}\".format(sales_2,traffic_2,s_t_2))"
   ]
  },
  {
   "cell_type": "code",
   "execution_count": 4,
   "metadata": {},
   "outputs": [
    {
     "name": "stdout",
     "output_type": "stream",
     "text": [
      "本月銷售額為:8596.31,客流量為:262, 客單價為:32.81\n"
     ]
    }
   ],
   "source": [
    "# 計算去年同期相關指標\n",
    "same_month = data[(data[\"成交時間\"] >= datetime(2017,2,1))&\n",
    "                (data[\"成交時間\"] <= datetime(2017,2,28))]\n",
    "sales_3 = (same_month[\"銷量\"]*same_month[\"單價\"]).sum()#銷售額計算\n",
    "\n",
    "#客流量計算\n",
    "traffic_3 = same_month[\"訂單ID\"].drop_duplicates().count()\n",
    "s_t_3 = sales_3/traffic_3 #客單價計算\n",
    "print(\"本月銷售額為:{:.2f},客流量為:{}, 客單價為:{:.2f}\".format(sales_3,traffic_3,s_t_3))"
   ]
  },
  {
   "cell_type": "code",
   "execution_count": 5,
   "metadata": {},
   "outputs": [],
   "source": [
    "# 利用函式提高編碼效率\n",
    "def get_month_data(data):\n",
    "    sale = ((data[\"單價\"]*data[\"銷量\"]).sum())\n",
    "    traffic = data[\"訂單ID\"].drop_duplicates().count()\n",
    "    price = sale / traffic\n",
    "    return (sale,traffic,price)\n",
    "\n",
    "#計算本月相關指標\n",
    "sale_1,traffic_1,s_t_1 = get_month_data(This_month)\n",
    "\n",
    "#計算上月相關指標\n",
    "sale_2,traffic_2,s_t_2 = get_month_data(last_month)\n",
    "\n",
    "#計算去年同期相關指標\n",
    "sale_3,traffic_3,s_t_3 = get_month_data(same_month)"
   ]
  },
  {
   "cell_type": "code",
   "execution_count": 6,
   "metadata": {},
   "outputs": [
    {
     "data": {
      "text/html": [
       "<div>\n",
       "<style scoped>\n",
       "    .dataframe tbody tr th:only-of-type {\n",
       "        vertical-align: middle;\n",
       "    }\n",
       "\n",
       "    .dataframe tbody tr th {\n",
       "        vertical-align: top;\n",
       "    }\n",
       "\n",
       "    .dataframe thead th {\n",
       "        text-align: right;\n",
       "    }\n",
       "</style>\n",
       "<table border=\"1\" class=\"dataframe\">\n",
       "  <thead>\n",
       "    <tr style=\"text-align: right;\">\n",
       "      <th></th>\n",
       "      <th>本月累計</th>\n",
       "      <th>上月同期</th>\n",
       "      <th>去年同期</th>\n",
       "    </tr>\n",
       "  </thead>\n",
       "  <tbody>\n",
       "    <tr>\n",
       "      <th>銷售額</th>\n",
       "      <td>10412.780070</td>\n",
       "      <td>9940.972910</td>\n",
       "      <td>8596.313470</td>\n",
       "    </tr>\n",
       "    <tr>\n",
       "      <th>客流量</th>\n",
       "      <td>343.000000</td>\n",
       "      <td>315.000000</td>\n",
       "      <td>262.000000</td>\n",
       "    </tr>\n",
       "    <tr>\n",
       "      <th>客單價</th>\n",
       "      <td>30.357959</td>\n",
       "      <td>31.558644</td>\n",
       "      <td>32.810357</td>\n",
       "    </tr>\n",
       "  </tbody>\n",
       "</table>\n",
       "</div>"
      ],
      "text/plain": [
       "             本月累計         上月同期         去年同期\n",
       "銷售額  10412.780070  9940.972910  8596.313470\n",
       "客流量    343.000000   315.000000   262.000000\n",
       "客單價     30.357959    31.558644    32.810357"
      ]
     },
     "execution_count": 6,
     "metadata": {},
     "output_type": "execute_result"
    }
   ],
   "source": [
    "report = pd.DataFrame([[sale_1,sale_2,sale_3], \n",
    "                       [traffic_1,traffic_2,traffic_3], \n",
    "                       [s_t_1,s_t_2,s_t_3]], columns = [\"本月累計\",\"上月同期\",\"去年同期\"], \n",
    "                      index = [\"銷售額\",\"客流量\",\"客單價\"])\n",
    "report"
   ]
  },
  {
   "cell_type": "code",
   "execution_count": 7,
   "metadata": {},
   "outputs": [
    {
     "data": {
      "text/html": [
       "<div>\n",
       "<style scoped>\n",
       "    .dataframe tbody tr th:only-of-type {\n",
       "        vertical-align: middle;\n",
       "    }\n",
       "\n",
       "    .dataframe tbody tr th {\n",
       "        vertical-align: top;\n",
       "    }\n",
       "\n",
       "    .dataframe thead th {\n",
       "        text-align: right;\n",
       "    }\n",
       "</style>\n",
       "<table border=\"1\" class=\"dataframe\">\n",
       "  <thead>\n",
       "    <tr style=\"text-align: right;\">\n",
       "      <th></th>\n",
       "      <th>本月累計</th>\n",
       "      <th>上月同期</th>\n",
       "      <th>去年同期</th>\n",
       "      <th>環比</th>\n",
       "      <th>同比</th>\n",
       "    </tr>\n",
       "  </thead>\n",
       "  <tbody>\n",
       "    <tr>\n",
       "      <th>銷售額</th>\n",
       "      <td>10412.780070</td>\n",
       "      <td>9940.972910</td>\n",
       "      <td>8596.313470</td>\n",
       "      <td>0.047461</td>\n",
       "      <td>0.211308</td>\n",
       "    </tr>\n",
       "    <tr>\n",
       "      <th>客流量</th>\n",
       "      <td>343.000000</td>\n",
       "      <td>315.000000</td>\n",
       "      <td>262.000000</td>\n",
       "      <td>0.088889</td>\n",
       "      <td>0.309160</td>\n",
       "    </tr>\n",
       "    <tr>\n",
       "      <th>客單價</th>\n",
       "      <td>30.357959</td>\n",
       "      <td>31.558644</td>\n",
       "      <td>32.810357</td>\n",
       "      <td>-0.038046</td>\n",
       "      <td>-0.074745</td>\n",
       "    </tr>\n",
       "  </tbody>\n",
       "</table>\n",
       "</div>"
      ],
      "text/plain": [
       "             本月累計         上月同期         去年同期        環比        同比\n",
       "銷售額  10412.780070  9940.972910  8596.313470  0.047461  0.211308\n",
       "客流量    343.000000   315.000000   262.000000  0.088889  0.309160\n",
       "客單價     30.357959    31.558644    32.810357 -0.038046 -0.074745"
      ]
     },
     "execution_count": 7,
     "metadata": {},
     "output_type": "execute_result"
    }
   ],
   "source": [
    "report[\"環比\"] = report[\"本月累計\"]/report[\"上月同期\"] - 1\n",
    "report[\"同比\"] = report[\"本月累計\"]/report[\"去年同期\"] - 1\n",
    "report\n"
   ]
  },
  {
   "cell_type": "code",
   "execution_count": 8,
   "metadata": {},
   "outputs": [],
   "source": [
    "report.to_csv(r\"C:\\ACD019600\\data\\report.csv\", encoding = \"utf-8-sig\")"
   ]
  },
  {
   "cell_type": "markdown",
   "metadata": {},
   "source": [
    "## 自動發送電子郵件"
   ]
  },
  {
   "cell_type": "code",
   "execution_count": null,
   "metadata": {},
   "outputs": [],
   "source": [
    "import smtplib\n",
    "from email import encoders\n",
    "from email.header import Header\n",
    "from email.mime.multipart import MIMEMultipart\n",
    "from email.mime.text import MIMEText\n",
    "from email.utils import parseaddr, formataddr\n",
    "from email.mime.application import MIMEApplication\n",
    "\n",
    "\n",
    "#寄件者email\n",
    "asender=\"thisisdemo543@outlook.com\"\n",
    "\n",
    "#收件人email\n",
    "areceiver=\"service@gotop.com.tw\"\n",
    "\n",
    "#副本email\n",
    "acc = 'thisisdemo543@outlook.com'\n",
    "\n",
    "#郵件主題\n",
    "asubject = '這是一份測試郵件'  \n",
    "\n",
    "#寄件者地址\n",
    "from_addr = \"thisisdemo543@outlook.com\"\n",
    "\n",
    "#郵件密碼（）\n",
    "password=\"1234Data\"\n",
    "\n",
    "#郵件設定\n",
    "msg = MIMEMultipart()\n",
    "msg['Subject'] = asubject  \n",
    "msg['to'] = areceiver  \n",
    "msg['Cc'] = acc \n",
    "msg['from'] = \"你的名字\"\n",
    "\n",
    "#郵件正文\n",
    "body = \"你好，這是一份測試郵件\"\n",
    "\n",
    "#添加郵件正文\n",
    "msg.attach(MIMEText(body, 'plain', 'utf-8'))\n",
    "\n",
    "#添加附件\n",
    "#注意，這裡的檔案路徑是分隔線\n",
    "xlsxpart = MIMEApplication(open('C:/ACD019600/data/這是附件.xlsx', 'rb').read())\n",
    "xlsxpart.add_header('Content-Disposition', \n",
    "                          'attachment', \n",
    "                          filename='這是附件.xlsx')\n",
    "msg.attach(xlsxpart) \n",
    "\n",
    "#設定郵箱伺服器位址及埠\n",
    "smtp_server =\"smtp-mail.outlook.com\"\n",
    "server = smtplib.SMTP(smtp_server, 587)\n",
    "server.set_debuglevel(1)\n",
    "server.ehlo()\n",
    "server.starttls()\n",
    "\n",
    "#登錄郵箱\n",
    "server.login(from_addr, password)\n",
    "#發送郵件\n",
    "server.sendmail(from_addr, \n",
    "                      areceiver.split(',')+acc.split(','),\n",
    "                      msg.as_string())\n",
    "#斷開伺服器連接\n",
    "server.quit()\n"
   ]
  },
  {
   "cell_type": "markdown",
   "metadata": {},
   "source": [
    "## 假如你是某連鎖超市的資料分析師"
   ]
  },
  {
   "cell_type": "code",
   "execution_count": 27,
   "metadata": {},
   "outputs": [],
   "source": [
    "import pandas as pd\n",
    "from datetime import datetime\n",
    "data = pd.read_csv(r\"C:\\ACD019600\\data\\order-14.3.csv\",parse_dates = [\"成交時間\"])"
   ]
  },
  {
   "cell_type": "code",
   "execution_count": 28,
   "metadata": {},
   "outputs": [
    {
     "data": {
      "text/html": [
       "<div>\n",
       "<style scoped>\n",
       "    .dataframe tbody tr th:only-of-type {\n",
       "        vertical-align: middle;\n",
       "    }\n",
       "\n",
       "    .dataframe tbody tr th {\n",
       "        vertical-align: top;\n",
       "    }\n",
       "\n",
       "    .dataframe thead th {\n",
       "        text-align: right;\n",
       "    }\n",
       "</style>\n",
       "<table border=\"1\" class=\"dataframe\">\n",
       "  <thead>\n",
       "    <tr style=\"text-align: right;\">\n",
       "      <th></th>\n",
       "      <th>類別ID</th>\n",
       "      <th>銷量</th>\n",
       "    </tr>\n",
       "  </thead>\n",
       "  <tbody>\n",
       "    <tr>\n",
       "      <th>0</th>\n",
       "      <td>910000000</td>\n",
       "      <td>24.0</td>\n",
       "    </tr>\n",
       "    <tr>\n",
       "      <th>1</th>\n",
       "      <td>910010000</td>\n",
       "      <td>7.0</td>\n",
       "    </tr>\n",
       "    <tr>\n",
       "      <th>2</th>\n",
       "      <td>910010002</td>\n",
       "      <td>1.0</td>\n",
       "    </tr>\n",
       "    <tr>\n",
       "      <th>3</th>\n",
       "      <td>910010101</td>\n",
       "      <td>6.0</td>\n",
       "    </tr>\n",
       "    <tr>\n",
       "      <th>4</th>\n",
       "      <td>910010301</td>\n",
       "      <td>2.0</td>\n",
       "    </tr>\n",
       "    <tr>\n",
       "      <th>5</th>\n",
       "      <td>910010400</td>\n",
       "      <td>1.0</td>\n",
       "    </tr>\n",
       "    <tr>\n",
       "      <th>6</th>\n",
       "      <td>910010500</td>\n",
       "      <td>4.0</td>\n",
       "    </tr>\n",
       "    <tr>\n",
       "      <th>7</th>\n",
       "      <td>910020000</td>\n",
       "      <td>10.0</td>\n",
       "    </tr>\n",
       "    <tr>\n",
       "      <th>8</th>\n",
       "      <td>910020102</td>\n",
       "      <td>1.0</td>\n",
       "    </tr>\n",
       "    <tr>\n",
       "      <th>9</th>\n",
       "      <td>910020104</td>\n",
       "      <td>31.0</td>\n",
       "    </tr>\n",
       "    <tr>\n",
       "      <th>10</th>\n",
       "      <td>910020105</td>\n",
       "      <td>1.0</td>\n",
       "    </tr>\n",
       "    <tr>\n",
       "      <th>11</th>\n",
       "      <td>910020202</td>\n",
       "      <td>6.0</td>\n",
       "    </tr>\n",
       "    <tr>\n",
       "      <th>12</th>\n",
       "      <td>910020204</td>\n",
       "      <td>1.0</td>\n",
       "    </tr>\n",
       "    <tr>\n",
       "      <th>13</th>\n",
       "      <td>910020207</td>\n",
       "      <td>16.0</td>\n",
       "    </tr>\n",
       "    <tr>\n",
       "      <th>14</th>\n",
       "      <td>910020208</td>\n",
       "      <td>4.0</td>\n",
       "    </tr>\n",
       "    <tr>\n",
       "      <th>15</th>\n",
       "      <td>910020300</td>\n",
       "      <td>25.0</td>\n",
       "    </tr>\n",
       "    <tr>\n",
       "      <th>16</th>\n",
       "      <td>910020302</td>\n",
       "      <td>8.0</td>\n",
       "    </tr>\n",
       "    <tr>\n",
       "      <th>17</th>\n",
       "      <td>910020403</td>\n",
       "      <td>4.0</td>\n",
       "    </tr>\n",
       "    <tr>\n",
       "      <th>18</th>\n",
       "      <td>910020404</td>\n",
       "      <td>4.0</td>\n",
       "    </tr>\n",
       "    <tr>\n",
       "      <th>19</th>\n",
       "      <td>910030000</td>\n",
       "      <td>56.0</td>\n",
       "    </tr>\n",
       "    <tr>\n",
       "      <th>20</th>\n",
       "      <td>910030001</td>\n",
       "      <td>65.0</td>\n",
       "    </tr>\n",
       "    <tr>\n",
       "      <th>21</th>\n",
       "      <td>910030002</td>\n",
       "      <td>83.0</td>\n",
       "    </tr>\n",
       "    <tr>\n",
       "      <th>22</th>\n",
       "      <td>910030005</td>\n",
       "      <td>2.0</td>\n",
       "    </tr>\n",
       "    <tr>\n",
       "      <th>23</th>\n",
       "      <td>910030007</td>\n",
       "      <td>2.0</td>\n",
       "    </tr>\n",
       "    <tr>\n",
       "      <th>24</th>\n",
       "      <td>910030100</td>\n",
       "      <td>13.0</td>\n",
       "    </tr>\n",
       "    <tr>\n",
       "      <th>25</th>\n",
       "      <td>910030102</td>\n",
       "      <td>8.0</td>\n",
       "    </tr>\n",
       "    <tr>\n",
       "      <th>26</th>\n",
       "      <td>910030103</td>\n",
       "      <td>1.0</td>\n",
       "    </tr>\n",
       "    <tr>\n",
       "      <th>27</th>\n",
       "      <td>910030104</td>\n",
       "      <td>1.0</td>\n",
       "    </tr>\n",
       "    <tr>\n",
       "      <th>28</th>\n",
       "      <td>910030201</td>\n",
       "      <td>1.0</td>\n",
       "    </tr>\n",
       "    <tr>\n",
       "      <th>29</th>\n",
       "      <td>910030203</td>\n",
       "      <td>9.0</td>\n",
       "    </tr>\n",
       "    <tr>\n",
       "      <th>...</th>\n",
       "      <td>...</td>\n",
       "      <td>...</td>\n",
       "    </tr>\n",
       "    <tr>\n",
       "      <th>338</th>\n",
       "      <td>931070003</td>\n",
       "      <td>2.0</td>\n",
       "    </tr>\n",
       "    <tr>\n",
       "      <th>339</th>\n",
       "      <td>931070100</td>\n",
       "      <td>2.0</td>\n",
       "    </tr>\n",
       "    <tr>\n",
       "      <th>340</th>\n",
       "      <td>931070104</td>\n",
       "      <td>2.0</td>\n",
       "    </tr>\n",
       "    <tr>\n",
       "      <th>341</th>\n",
       "      <td>931070106</td>\n",
       "      <td>2.0</td>\n",
       "    </tr>\n",
       "    <tr>\n",
       "      <th>342</th>\n",
       "      <td>931080000</td>\n",
       "      <td>1.0</td>\n",
       "    </tr>\n",
       "    <tr>\n",
       "      <th>343</th>\n",
       "      <td>931080001</td>\n",
       "      <td>1.0</td>\n",
       "    </tr>\n",
       "    <tr>\n",
       "      <th>344</th>\n",
       "      <td>931080003</td>\n",
       "      <td>5.0</td>\n",
       "    </tr>\n",
       "    <tr>\n",
       "      <th>345</th>\n",
       "      <td>931080004</td>\n",
       "      <td>1.0</td>\n",
       "    </tr>\n",
       "    <tr>\n",
       "      <th>346</th>\n",
       "      <td>931080103</td>\n",
       "      <td>1.0</td>\n",
       "    </tr>\n",
       "    <tr>\n",
       "      <th>347</th>\n",
       "      <td>931080104</td>\n",
       "      <td>5.0</td>\n",
       "    </tr>\n",
       "    <tr>\n",
       "      <th>348</th>\n",
       "      <td>931080202</td>\n",
       "      <td>1.0</td>\n",
       "    </tr>\n",
       "    <tr>\n",
       "      <th>349</th>\n",
       "      <td>931080205</td>\n",
       "      <td>3.0</td>\n",
       "    </tr>\n",
       "    <tr>\n",
       "      <th>350</th>\n",
       "      <td>931080401</td>\n",
       "      <td>1.0</td>\n",
       "    </tr>\n",
       "    <tr>\n",
       "      <th>351</th>\n",
       "      <td>932010109</td>\n",
       "      <td>1.0</td>\n",
       "    </tr>\n",
       "    <tr>\n",
       "      <th>352</th>\n",
       "      <td>932010300</td>\n",
       "      <td>1.0</td>\n",
       "    </tr>\n",
       "    <tr>\n",
       "      <th>353</th>\n",
       "      <td>933040501</td>\n",
       "      <td>1.0</td>\n",
       "    </tr>\n",
       "    <tr>\n",
       "      <th>354</th>\n",
       "      <td>935010702</td>\n",
       "      <td>2.0</td>\n",
       "    </tr>\n",
       "    <tr>\n",
       "      <th>355</th>\n",
       "      <td>935011001</td>\n",
       "      <td>1.0</td>\n",
       "    </tr>\n",
       "    <tr>\n",
       "      <th>356</th>\n",
       "      <td>935020101</td>\n",
       "      <td>1.0</td>\n",
       "    </tr>\n",
       "    <tr>\n",
       "      <th>357</th>\n",
       "      <td>936000101</td>\n",
       "      <td>1.0</td>\n",
       "    </tr>\n",
       "    <tr>\n",
       "      <th>358</th>\n",
       "      <td>936000500</td>\n",
       "      <td>1.0</td>\n",
       "    </tr>\n",
       "    <tr>\n",
       "      <th>359</th>\n",
       "      <td>936000501</td>\n",
       "      <td>1.0</td>\n",
       "    </tr>\n",
       "    <tr>\n",
       "      <th>360</th>\n",
       "      <td>936010000</td>\n",
       "      <td>4.0</td>\n",
       "    </tr>\n",
       "    <tr>\n",
       "      <th>361</th>\n",
       "      <td>936010001</td>\n",
       "      <td>5.0</td>\n",
       "    </tr>\n",
       "    <tr>\n",
       "      <th>362</th>\n",
       "      <td>936010002</td>\n",
       "      <td>6.0</td>\n",
       "    </tr>\n",
       "    <tr>\n",
       "      <th>363</th>\n",
       "      <td>936030100</td>\n",
       "      <td>1.0</td>\n",
       "    </tr>\n",
       "    <tr>\n",
       "      <th>364</th>\n",
       "      <td>936050100</td>\n",
       "      <td>1.0</td>\n",
       "    </tr>\n",
       "    <tr>\n",
       "      <th>365</th>\n",
       "      <td>936080103</td>\n",
       "      <td>1.0</td>\n",
       "    </tr>\n",
       "    <tr>\n",
       "      <th>366</th>\n",
       "      <td>938030000</td>\n",
       "      <td>8.0</td>\n",
       "    </tr>\n",
       "    <tr>\n",
       "      <th>367</th>\n",
       "      <td>960000000</td>\n",
       "      <td>121.0</td>\n",
       "    </tr>\n",
       "  </tbody>\n",
       "</table>\n",
       "<p>368 rows × 2 columns</p>\n",
       "</div>"
      ],
      "text/plain": [
       "          類別ID     銷量\n",
       "0    910000000   24.0\n",
       "1    910010000    7.0\n",
       "2    910010002    1.0\n",
       "3    910010101    6.0\n",
       "4    910010301    2.0\n",
       "5    910010400    1.0\n",
       "6    910010500    4.0\n",
       "7    910020000   10.0\n",
       "8    910020102    1.0\n",
       "9    910020104   31.0\n",
       "10   910020105    1.0\n",
       "11   910020202    6.0\n",
       "12   910020204    1.0\n",
       "13   910020207   16.0\n",
       "14   910020208    4.0\n",
       "15   910020300   25.0\n",
       "16   910020302    8.0\n",
       "17   910020403    4.0\n",
       "18   910020404    4.0\n",
       "19   910030000   56.0\n",
       "20   910030001   65.0\n",
       "21   910030002   83.0\n",
       "22   910030005    2.0\n",
       "23   910030007    2.0\n",
       "24   910030100   13.0\n",
       "25   910030102    8.0\n",
       "26   910030103    1.0\n",
       "27   910030104    1.0\n",
       "28   910030201    1.0\n",
       "29   910030203    9.0\n",
       "..         ...    ...\n",
       "338  931070003    2.0\n",
       "339  931070100    2.0\n",
       "340  931070104    2.0\n",
       "341  931070106    2.0\n",
       "342  931080000    1.0\n",
       "343  931080001    1.0\n",
       "344  931080003    5.0\n",
       "345  931080004    1.0\n",
       "346  931080103    1.0\n",
       "347  931080104    5.0\n",
       "348  931080202    1.0\n",
       "349  931080205    3.0\n",
       "350  931080401    1.0\n",
       "351  932010109    1.0\n",
       "352  932010300    1.0\n",
       "353  933040501    1.0\n",
       "354  935010702    2.0\n",
       "355  935011001    1.0\n",
       "356  935020101    1.0\n",
       "357  936000101    1.0\n",
       "358  936000500    1.0\n",
       "359  936000501    1.0\n",
       "360  936010000    4.0\n",
       "361  936010001    5.0\n",
       "362  936010002    6.0\n",
       "363  936030100    1.0\n",
       "364  936050100    1.0\n",
       "365  936080103    1.0\n",
       "366  938030000    8.0\n",
       "367  960000000  121.0\n",
       "\n",
       "[368 rows x 2 columns]"
      ]
     },
     "execution_count": 28,
     "metadata": {},
     "output_type": "execute_result"
    }
   ],
   "source": [
    "data.groupby(\"類別ID\")[\"銷量\"].sum().reset_index()"
   ]
  },
  {
   "cell_type": "code",
   "execution_count": 29,
   "metadata": {},
   "outputs": [
    {
     "data": {
      "text/html": [
       "<div>\n",
       "<style scoped>\n",
       "    .dataframe tbody tr th:only-of-type {\n",
       "        vertical-align: middle;\n",
       "    }\n",
       "\n",
       "    .dataframe tbody tr th {\n",
       "        vertical-align: top;\n",
       "    }\n",
       "\n",
       "    .dataframe thead th {\n",
       "        text-align: right;\n",
       "    }\n",
       "</style>\n",
       "<table border=\"1\" class=\"dataframe\">\n",
       "  <thead>\n",
       "    <tr style=\"text-align: right;\">\n",
       "      <th></th>\n",
       "      <th>類別ID</th>\n",
       "      <th>銷量</th>\n",
       "    </tr>\n",
       "  </thead>\n",
       "  <tbody>\n",
       "    <tr>\n",
       "      <th>240</th>\n",
       "      <td>922000003</td>\n",
       "      <td>425.328</td>\n",
       "    </tr>\n",
       "    <tr>\n",
       "      <th>239</th>\n",
       "      <td>922000002</td>\n",
       "      <td>206.424</td>\n",
       "    </tr>\n",
       "    <tr>\n",
       "      <th>251</th>\n",
       "      <td>923000006</td>\n",
       "      <td>190.294</td>\n",
       "    </tr>\n",
       "    <tr>\n",
       "      <th>216</th>\n",
       "      <td>915030104</td>\n",
       "      <td>175.059</td>\n",
       "    </tr>\n",
       "    <tr>\n",
       "      <th>238</th>\n",
       "      <td>922000001</td>\n",
       "      <td>121.355</td>\n",
       "    </tr>\n",
       "    <tr>\n",
       "      <th>367</th>\n",
       "      <td>960000000</td>\n",
       "      <td>121.000</td>\n",
       "    </tr>\n",
       "    <tr>\n",
       "      <th>234</th>\n",
       "      <td>920090000</td>\n",
       "      <td>111.565</td>\n",
       "    </tr>\n",
       "    <tr>\n",
       "      <th>249</th>\n",
       "      <td>923000002</td>\n",
       "      <td>91.847</td>\n",
       "    </tr>\n",
       "    <tr>\n",
       "      <th>237</th>\n",
       "      <td>922000000</td>\n",
       "      <td>86.395</td>\n",
       "    </tr>\n",
       "    <tr>\n",
       "      <th>247</th>\n",
       "      <td>923000000</td>\n",
       "      <td>85.845</td>\n",
       "    </tr>\n",
       "  </tbody>\n",
       "</table>\n",
       "</div>"
      ],
      "text/plain": [
       "          類別ID       銷量\n",
       "240  922000003  425.328\n",
       "239  922000002  206.424\n",
       "251  923000006  190.294\n",
       "216  915030104  175.059\n",
       "238  922000001  121.355\n",
       "367  960000000  121.000\n",
       "234  920090000  111.565\n",
       "249  923000002   91.847\n",
       "237  922000000   86.395\n",
       "247  923000000   85.845"
      ]
     },
     "execution_count": 29,
     "metadata": {},
     "output_type": "execute_result"
    }
   ],
   "source": [
    "data.groupby(\"類別ID\")[\"銷量\"].sum().reset_index().sort_values(by = \"銷量\",ascending = False).head(10)"
   ]
  },
  {
   "cell_type": "code",
   "execution_count": 30,
   "metadata": {},
   "outputs": [
    {
     "data": {
      "text/html": [
       "<div>\n",
       "<style scoped>\n",
       "    .dataframe tbody tr th:only-of-type {\n",
       "        vertical-align: middle;\n",
       "    }\n",
       "\n",
       "    .dataframe tbody tr th {\n",
       "        vertical-align: top;\n",
       "    }\n",
       "\n",
       "    .dataframe thead th {\n",
       "        text-align: right;\n",
       "    }\n",
       "</style>\n",
       "<table border=\"1\" class=\"dataframe\">\n",
       "  <thead>\n",
       "    <tr style=\"text-align: right;\">\n",
       "      <th></th>\n",
       "      <th>商品ID</th>\n",
       "      <th>銷量</th>\n",
       "    </tr>\n",
       "  </thead>\n",
       "  <tbody>\n",
       "    <tr>\n",
       "      <th>8</th>\n",
       "      <td>29989059</td>\n",
       "      <td>391.549</td>\n",
       "    </tr>\n",
       "    <tr>\n",
       "      <th>18</th>\n",
       "      <td>29989072</td>\n",
       "      <td>102.876</td>\n",
       "    </tr>\n",
       "    <tr>\n",
       "      <th>469</th>\n",
       "      <td>30022232</td>\n",
       "      <td>101.000</td>\n",
       "    </tr>\n",
       "    <tr>\n",
       "      <th>523</th>\n",
       "      <td>30031960</td>\n",
       "      <td>99.998</td>\n",
       "    </tr>\n",
       "    <tr>\n",
       "      <th>57</th>\n",
       "      <td>29989157</td>\n",
       "      <td>72.453</td>\n",
       "    </tr>\n",
       "    <tr>\n",
       "      <th>476</th>\n",
       "      <td>30023041</td>\n",
       "      <td>64.416</td>\n",
       "    </tr>\n",
       "    <tr>\n",
       "      <th>505</th>\n",
       "      <td>30026255</td>\n",
       "      <td>62.375</td>\n",
       "    </tr>\n",
       "    <tr>\n",
       "      <th>7</th>\n",
       "      <td>29989058</td>\n",
       "      <td>56.052</td>\n",
       "    </tr>\n",
       "    <tr>\n",
       "      <th>510</th>\n",
       "      <td>30027007</td>\n",
       "      <td>48.757</td>\n",
       "    </tr>\n",
       "    <tr>\n",
       "      <th>903</th>\n",
       "      <td>30171264</td>\n",
       "      <td>45.000</td>\n",
       "    </tr>\n",
       "  </tbody>\n",
       "</table>\n",
       "</div>"
      ],
      "text/plain": [
       "         商品ID       銷量\n",
       "8    29989059  391.549\n",
       "18   29989072  102.876\n",
       "469  30022232  101.000\n",
       "523  30031960   99.998\n",
       "57   29989157   72.453\n",
       "476  30023041   64.416\n",
       "505  30026255   62.375\n",
       "7    29989058   56.052\n",
       "510  30027007   48.757\n",
       "903  30171264   45.000"
      ]
     },
     "execution_count": 30,
     "metadata": {},
     "output_type": "execute_result"
    }
   ],
   "source": [
    "pd.pivot_table(data,index = \"商品ID\",values = \"銷量\",\n",
    "        aggfunc = \"sum\").reset_index().sort_values(by = \"銷量\",ascending = False).head(10)\n"
   ]
  },
  {
   "cell_type": "code",
   "execution_count": 31,
   "metadata": {},
   "outputs": [
    {
     "data": {
      "text/plain": [
       "門市編號\n",
       "CDLG    10908.82612\n",
       "CDNL     8059.47867\n",
       "CDXL     9981.76166\n",
       "Name: 銷售額, dtype: float64"
      ]
     },
     "execution_count": 31,
     "metadata": {},
     "output_type": "execute_result"
    }
   ],
   "source": [
    "data[\"銷售額\"] = data[\"銷量\"]*data[\"單價\"]\n",
    "data.groupby(\"門市編號\")[\"銷售額\"].sum()"
   ]
  },
  {
   "cell_type": "code",
   "execution_count": 32,
   "metadata": {},
   "outputs": [
    {
     "data": {
      "text/plain": [
       "門市編號\n",
       "CDLG    0.376815\n",
       "CDNL    0.278392\n",
       "CDXL    0.344792\n",
       "Name: 銷售額, dtype: float64"
      ]
     },
     "execution_count": 32,
     "metadata": {},
     "output_type": "execute_result"
    }
   ],
   "source": [
    "data.groupby(\"門市編號\")[\"銷售額\"].sum()/data[\"銷售額\"].sum()"
   ]
  },
  {
   "cell_type": "code",
   "execution_count": 33,
   "metadata": {},
   "outputs": [
    {
     "data": {
      "text/plain": [
       "<matplotlib.axes._subplots.AxesSubplot at 0x194d7163630>"
      ]
     },
     "execution_count": 33,
     "metadata": {},
     "output_type": "execute_result"
    },
    {
     "data": {
      "image/png": "[encoded data removed]",
      "text/plain": [
       "<Figure size 432x288 with 1 Axes>"
      ]
     },
     "metadata": {},
     "output_type": "display_data"
    }
   ],
   "source": [
    "#繪製圓形圖\n",
    "import matplotlib.pyplot as plt\n",
    "plt.rcParams[\"font.sans-serif\"]='Microsoft JhengHei'\n",
    "\n",
    "(data.groupby(\"門市編號\")[\"銷售額\"].sum()/data[\"銷售額\"].sum()).plot.pie()"
   ]
  },
  {
   "cell_type": "code",
   "execution_count": 16,
   "metadata": {},
   "outputs": [
    {
     "data": {
      "text/plain": [
       "小時\n",
       "6      10\n",
       "7      37\n",
       "8     106\n",
       "9     156\n",
       "10    143\n",
       "11     63\n",
       "13     30\n",
       "14     36\n",
       "15     17\n",
       "16     50\n",
       "17     73\n",
       "18     71\n",
       "19     71\n",
       "20     39\n",
       "21     16\n",
       "Name: 訂單ID, dtype: int64"
      ]
     },
     "execution_count": 16,
     "metadata": {},
     "output_type": "execute_result"
    }
   ],
   "source": [
    "#利用自訂時間格式函式strftime提取小時數\n",
    "data[\"小時\"] = data[\"成交時間\"].map(lambda x:int(x.strftime(\"%H\")))\n",
    "\n",
    "#對小時和訂單刪除重複\n",
    "traffic = data[[\"小時\",\"訂單ID\"]].drop_duplicates()\n",
    "\n",
    "#求每小時的客流量\n",
    "traffic.groupby(\"小時\")[\"訂單ID\"].count()\n"
   ]
  },
  {
   "cell_type": "code",
   "execution_count": 17,
   "metadata": {},
   "outputs": [
    {
     "data": {
      "text/plain": [
       "<matplotlib.axes._subplots.AxesSubplot at 0x194d5abac50>"
      ]
     },
     "execution_count": 17,
     "metadata": {},
     "output_type": "execute_result"
    },
    {
     "data": {
      "image/png": "[encoded data removed]",
      "text/plain": [
       "<Figure size 432x288 with 1 Axes>"
      ]
     },
     "metadata": {
      "needs_background": "light"
     },
     "output_type": "display_data"
    }
   ],
   "source": [
    "#繪製每小時客流量折線圖\n",
    "traffic.groupby(\"小時\")[\"訂單ID\"].count().plot()"
   ]
  },
  {
   "cell_type": "markdown",
   "metadata": {},
   "source": [
    "## 假如你是某銀行的資料分析師"
   ]
  },
  {
   "cell_type": "code",
   "execution_count": 18,
   "metadata": {},
   "outputs": [
    {
     "name": "stdout",
     "output_type": "stream",
     "text": [
      "<class 'pandas.core.frame.DataFrame'>\n",
      "RangeIndex: 150000 entries, 0 to 149999\n",
      "Data columns (total 6 columns):\n",
      "用戶ID    150000 non-null int64\n",
      "好壞客戶    150000 non-null int64\n",
      "年齡      150000 non-null int64\n",
      "負債率     150000 non-null float64\n",
      "月收入     120269 non-null float64\n",
      "眷屬數量    146076 non-null float64\n",
      "dtypes: float64(3), int64(3)\n",
      "memory usage: 6.9 MB\n"
     ]
    }
   ],
   "source": [
    "#匯入資料來源\n",
    "data = pd.read_csv(r\"C:\\ACD019600\\data\\loan.csv\")\n",
    "data.info()"
   ]
  },
  {
   "cell_type": "code",
   "execution_count": 19,
   "metadata": {},
   "outputs": [
    {
     "name": "stdout",
     "output_type": "stream",
     "text": [
      "<class 'pandas.core.frame.DataFrame'>\n",
      "RangeIndex: 150000 entries, 0 to 149999\n",
      "Data columns (total 6 columns):\n",
      "用戶ID    150000 non-null int64\n",
      "好壞客戶    150000 non-null int64\n",
      "年齡      150000 non-null int64\n",
      "負債率     150000 non-null float64\n",
      "月收入     150000 non-null float64\n",
      "眷屬數量    146076 non-null float64\n",
      "dtypes: float64(3), int64(3)\n",
      "memory usage: 6.9 MB\n"
     ]
    }
   ],
   "source": [
    "data = data.fillna({\"月收入\":data[\"月收入\"].mean()})\n",
    "data.info()"
   ]
  },
  {
   "cell_type": "code",
   "execution_count": 20,
   "metadata": {},
   "outputs": [
    {
     "data": {
      "text/plain": [
       "0           (5000.0, 10000.0]\n",
       "1               (0.0, 5000.0]\n",
       "2               (0.0, 5000.0]\n",
       "3               (0.0, 5000.0]\n",
       "4         (20000.0, 100000.0]\n",
       "5               (0.0, 5000.0]\n",
       "6           (5000.0, 10000.0]\n",
       "7               (0.0, 5000.0]\n",
       "8           (5000.0, 10000.0]\n",
       "9         (20000.0, 100000.0]\n",
       "10              (0.0, 5000.0]\n",
       "11          (5000.0, 10000.0]\n",
       "12         (10000.0, 15000.0]\n",
       "13         (10000.0, 15000.0]\n",
       "14                        NaN\n",
       "15         (10000.0, 15000.0]\n",
       "16          (5000.0, 10000.0]\n",
       "17          (5000.0, 10000.0]\n",
       "18              (0.0, 5000.0]\n",
       "19              (0.0, 5000.0]\n",
       "20         (10000.0, 15000.0]\n",
       "21              (0.0, 5000.0]\n",
       "22              (0.0, 5000.0]\n",
       "23          (5000.0, 10000.0]\n",
       "24              (0.0, 5000.0]\n",
       "25              (0.0, 5000.0]\n",
       "26          (5000.0, 10000.0]\n",
       "27              (0.0, 5000.0]\n",
       "28              (0.0, 5000.0]\n",
       "29          (5000.0, 10000.0]\n",
       "                 ...         \n",
       "149970     (15000.0, 20000.0]\n",
       "149971          (0.0, 5000.0]\n",
       "149972      (5000.0, 10000.0]\n",
       "149973      (5000.0, 10000.0]\n",
       "149974          (0.0, 5000.0]\n",
       "149975      (5000.0, 10000.0]\n",
       "149976      (5000.0, 10000.0]\n",
       "149977      (5000.0, 10000.0]\n",
       "149978          (0.0, 5000.0]\n",
       "149979      (5000.0, 10000.0]\n",
       "149980      (5000.0, 10000.0]\n",
       "149981      (5000.0, 10000.0]\n",
       "149982          (0.0, 5000.0]\n",
       "149983          (0.0, 5000.0]\n",
       "149984      (5000.0, 10000.0]\n",
       "149985          (0.0, 5000.0]\n",
       "149986          (0.0, 5000.0]\n",
       "149987          (0.0, 5000.0]\n",
       "149988      (5000.0, 10000.0]\n",
       "149989      (5000.0, 10000.0]\n",
       "149990          (0.0, 5000.0]\n",
       "149991     (10000.0, 15000.0]\n",
       "149992      (5000.0, 10000.0]\n",
       "149993          (0.0, 5000.0]\n",
       "149994          (0.0, 5000.0]\n",
       "149995          (0.0, 5000.0]\n",
       "149996      (5000.0, 10000.0]\n",
       "149997      (5000.0, 10000.0]\n",
       "149998      (5000.0, 10000.0]\n",
       "149999      (5000.0, 10000.0]\n",
       "Name: 月收入, Length: 150000, dtype: category\n",
       "Categories (5, interval[int64]): [(0, 5000] < (5000, 10000] < (10000, 15000] < (15000, 20000] < (20000, 100000]]"
      ]
     },
     "execution_count": 20,
     "metadata": {},
     "output_type": "execute_result"
    }
   ],
   "source": [
    "cut_bins=[0,5000,10000,15000,20000,100000]\n",
    "income_cut=pd.cut(data[\"月收入\"],cut_bins)\n",
    "income_cut"
   ]
  },
  {
   "cell_type": "code",
   "execution_count": 21,
   "metadata": {},
   "outputs": [
    {
     "data": {
      "text/plain": [
       "月收入\n",
       "(0, 5000]          0.087543\n",
       "(5000, 10000]      0.058308\n",
       "(10000, 15000]     0.041964\n",
       "(15000, 20000]     0.041811\n",
       "(20000, 100000]    0.053615\n",
       "Name: 好壞客戶, dtype: float64"
      ]
     },
     "execution_count": 21,
     "metadata": {},
     "output_type": "execute_result"
    }
   ],
   "source": [
    "all_income_user = data[\"好壞客戶\"].groupby(income_cut).count()\n",
    "bad_income_user = data[\"好壞客戶\"].groupby(income_cut).sum()\n",
    "bad_rate = bad_income_user/all_income_user\n",
    "bad_rate "
   ]
  },
  {
   "cell_type": "code",
   "execution_count": 22,
   "metadata": {},
   "outputs": [
    {
     "data": {
      "text/plain": [
       "<matplotlib.axes._subplots.AxesSubplot at 0x194d5ca38d0>"
      ]
     },
     "execution_count": 22,
     "metadata": {},
     "output_type": "execute_result"
    },
    {
     "data": {
      "image/png": "[encoded data removed]",
      "text/plain": [
       "<Figure size 432x288 with 1 Axes>"
      ]
     },
     "metadata": {
      "needs_background": "light"
     },
     "output_type": "display_data"
    }
   ],
   "source": [
    "#繪製月收入與壞帳率關係圖\n",
    "bad_rate.plot.bar()"
   ]
  },
  {
   "cell_type": "code",
   "execution_count": 23,
   "metadata": {},
   "outputs": [
    {
     "data": {
      "text/plain": [
       "年齡\n",
       "(-0.001, 37.0]    0.108201\n",
       "(37.0, 45.0]      0.086841\n",
       "(45.0, 52.0]      0.078956\n",
       "(52.0, 59.0]      0.059600\n",
       "(59.0, 67.0]      0.039205\n",
       "(67.0, 109.0]     0.022498\n",
       "Name: 好壞客戶, dtype: float64"
      ]
     },
     "execution_count": 23,
     "metadata": {},
     "output_type": "execute_result"
    }
   ],
   "source": [
    "age_cut=pd.qcut(data[\"年齡\"],6)\n",
    "all_age_user = data[\"好壞客戶\"].groupby(age_cut).count()\n",
    "bad_age_user = data[\"好壞客戶\"].groupby(age_cut).sum()\n",
    "bad_rate = bad_age_user/all_age_user\n",
    "bad_rate"
   ]
  },
  {
   "cell_type": "code",
   "execution_count": 24,
   "metadata": {},
   "outputs": [
    {
     "data": {
      "text/plain": [
       "<matplotlib.axes._subplots.AxesSubplot at 0x194d70a0fd0>"
      ]
     },
     "execution_count": 24,
     "metadata": {},
     "output_type": "execute_result"
    },
    {
     "data": {
      "image/png": "[encoded data removed]",
      "text/plain": [
       "<Figure size 432x288 with 1 Axes>"
      ]
     },
     "metadata": {
      "needs_background": "light"
     },
     "output_type": "display_data"
    }
   ],
   "source": [
    "#繪製年齡與壞帳率關係圖\n",
    "bad_rate.plot.bar()"
   ]
  },
  {
   "cell_type": "code",
   "execution_count": 25,
   "metadata": {},
   "outputs": [
    {
     "data": {
      "text/plain": [
       "眷屬數量\n",
       "0.0     0.058629\n",
       "1.0     0.073529\n",
       "2.0     0.081139\n",
       "3.0     0.088263\n",
       "4.0     0.103774\n",
       "5.0     0.091153\n",
       "6.0     0.151899\n",
       "7.0     0.098039\n",
       "8.0     0.083333\n",
       "9.0     0.000000\n",
       "10.0    0.000000\n",
       "13.0    0.000000\n",
       "20.0    0.000000\n",
       "Name: 好壞客戶, dtype: float64"
      ]
     },
     "execution_count": 25,
     "metadata": {},
     "output_type": "execute_result"
    }
   ],
   "source": [
    "all_age_user = data.groupby(\"眷屬數量\")[\"好壞客戶\"].count()\n",
    "bad_age_user = data.groupby(\"眷屬數量\")[\"好壞客戶\"].sum()\n",
    "bad_rate = bad_age_user/all_age_user\n",
    "bad_rate"
   ]
  },
  {
   "cell_type": "code",
   "execution_count": 26,
   "metadata": {},
   "outputs": [
    {
     "data": {
      "text/plain": [
       "<matplotlib.axes._subplots.AxesSubplot at 0x194d710e390>"
      ]
     },
     "execution_count": 26,
     "metadata": {},
     "output_type": "execute_result"
    },
    {
     "data": {
      "image/png": "[encoded data removed]",
      "text/plain": [
       "<Figure size 432x288 with 1 Axes>"
      ]
     },
     "metadata": {
      "needs_background": "light"
     },
     "output_type": "display_data"
    }
   ],
   "source": [
    "#繪製眷屬數量與壞帳率關係圖\n",
    "bad_rate. plot()"
   ]
  }
 ],
 "metadata": {
  "kernelspec": {
   "display_name": "Python 3",
   "language": "python",
   "name": "python3"
  },
  "language_info": {
   "codemirror_mode": {
    "name": "ipython",
    "version": 3
   },
   "file_extension": ".py",
   "mimetype": "text/x-python",
   "name": "python",
   "nbconvert_exporter": "python",
   "pygments_lexer": "ipython3",
   "version": "3.7.3"
  },
  "toc": {
   "base_numbering": "14",
   "nav_menu": {},
   "number_sections": true,
   "sideBar": true,
   "skip_h1_title": false,
   "title_cell": "Table of Contents",
   "title_sidebar": "Contents",
   "toc_cell": false,
   "toc_position": {},
   "toc_section_display": true,
   "toc_window_display": true
  }
 },
 "nbformat": 4,
 "nbformat_minor": 2
}
