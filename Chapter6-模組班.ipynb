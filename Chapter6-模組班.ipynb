{
 "cells": [
  {
   "cell_type": "markdown",
   "metadata": {},
   "source": [
    "# 資料選擇\n",
    "## 欄選擇\n",
    "### 選擇某一欄/某幾欄"
   ]
  },
  {
   "cell_type": "code",
   "execution_count": null,
   "metadata": {},
   "outputs": [],
   "source": [
    "import pandas as pd\n",
    "df = pd.read_excel(r\"..\\data\\test6.xlsx\")\n",
    "df"
   ]
  },
  {
   "cell_type": "code",
   "execution_count": null,
   "metadata": {},
   "outputs": [],
   "source": [
    "df[\"訂單編號\"]"
   ]
  },
  {
   "cell_type": "code",
   "execution_count": null,
   "metadata": {},
   "outputs": [],
   "source": [
    "df[[\"訂單編號\",\"客戶姓名\"]]"
   ]
  },
  {
   "cell_type": "code",
   "execution_count": null,
   "metadata": {},
   "outputs": [],
   "source": [
    "#取得第1欄和第3欄的數值\n",
    "df"
   ]
  },
  {
   "cell_type": "code",
   "execution_count": null,
   "metadata": {},
   "outputs": [],
   "source": [
    "df.iloc[:,[0,2]] #取得第1欄和第3欄的數值"
   ]
  },
  {
   "cell_type": "markdown",
   "metadata": {},
   "source": [
    "### 選擇連續的某幾欄"
   ]
  },
  {
   "cell_type": "code",
   "execution_count": null,
   "metadata": {},
   "outputs": [],
   "source": [
    "#取得第1欄到第4欄的資料\n",
    "df.iloc[:,0:3]#取得第1欄到第4欄的值"
   ]
  },
  {
   "cell_type": "markdown",
   "metadata": {},
   "source": [
    "## 列選擇\n",
    "### 選擇某一列/某幾列"
   ]
  },
  {
   "cell_type": "code",
   "execution_count": null,
   "metadata": {},
   "outputs": [],
   "source": [
    "df=pd.read_excel(\"../data/test6.xlsx\", sheet_name=\"6-2\")\n",
    "df.index=([\"一\",\"二\",\"三\",\"四\"])\n",
    "df"
   ]
  },
  {
   "cell_type": "code",
   "execution_count": null,
   "metadata": {},
   "outputs": [],
   "source": [
    "df.loc[\"一\"] #選擇一列"
   ]
  },
  {
   "cell_type": "code",
   "execution_count": null,
   "metadata": {},
   "outputs": [],
   "source": [
    "df.loc[[\"一\",\"二\"]] #選擇第一列和第二列"
   ]
  },
  {
   "cell_type": "code",
   "execution_count": null,
   "metadata": {},
   "outputs": [],
   "source": [
    "#利用iloc方法\n",
    "df"
   ]
  },
  {
   "cell_type": "code",
   "execution_count": null,
   "metadata": {},
   "outputs": [],
   "source": [
    "df.iloc[0]#選擇第一列"
   ]
  },
  {
   "cell_type": "code",
   "execution_count": null,
   "metadata": {},
   "outputs": [],
   "source": [
    "df.iloc[[0,1]]#選擇第一列和第二列"
   ]
  },
  {
   "cell_type": "markdown",
   "metadata": {},
   "source": [
    "### 選擇連續的某幾列"
   ]
  },
  {
   "cell_type": "code",
   "execution_count": null,
   "metadata": {},
   "outputs": [],
   "source": [
    "df"
   ]
  },
  {
   "cell_type": "code",
   "execution_count": null,
   "metadata": {},
   "outputs": [],
   "source": [
    "df.iloc[0:3]#選擇第一列到第三列"
   ]
  },
  {
   "cell_type": "markdown",
   "metadata": {},
   "source": [
    "### 選擇滿足條件的列"
   ]
  },
  {
   "cell_type": "code",
   "execution_count": null,
   "metadata": {},
   "outputs": [],
   "source": [
    "df = pd.read_excel(\"../data/test6.xlsx\",sheet_name = \"6.2.3\")\n",
    "df"
   ]
  },
  {
   "cell_type": "code",
   "execution_count": null,
   "metadata": {},
   "outputs": [],
   "source": [
    "df[df[\"年齡\"]<200] #選擇年齡小於200的資料"
   ]
  },
  {
   "cell_type": "code",
   "execution_count": null,
   "metadata": {},
   "outputs": [],
   "source": [
    "df[ (df[\"年齡\"]<200) & (df[\"唯一識別碼\"]<102)]  # 小括弧要寫"
   ]
  },
  {
   "cell_type": "markdown",
   "metadata": {},
   "source": [
    "## 列欄同時選擇"
   ]
  },
  {
   "cell_type": "markdown",
   "metadata": {},
   "source": [
    "### 普通索引+普通索引選擇指定的列和欄"
   ]
  },
  {
   "cell_type": "code",
   "execution_count": null,
   "metadata": {},
   "outputs": [],
   "source": [
    "#取得第一列、第三列和第一欄、第三欄資料\n",
    "df = pd.read_excel(r\"..\\data\\test6.xlsx\", sheet_name=\"6-3\")\n",
    "df.index=(\"一\",\"二\",\"三\",\"四\")\n",
    "df"
   ]
  },
  {
   "cell_type": "code",
   "execution_count": null,
   "metadata": {},
   "outputs": [],
   "source": [
    "#用loc方法傳入列欄名稱\n",
    "df.loc[[\"一\",\"三\"],[\"訂單編號\",\"唯一識別碼\"]]"
   ]
  },
  {
   "cell_type": "markdown",
   "metadata": {},
   "source": [
    "### 位置索引+位置索引選擇指定的列和欄"
   ]
  },
  {
   "cell_type": "code",
   "execution_count": null,
   "metadata": {},
   "outputs": [],
   "source": [
    "#取得第一列、第二列和第一欄、第三欄資料\n",
    "df"
   ]
  },
  {
   "cell_type": "code",
   "execution_count": null,
   "metadata": {},
   "outputs": [],
   "source": [
    "df.iloc[[0,1],[0,2]]"
   ]
  },
  {
   "cell_type": "markdown",
   "metadata": {},
   "source": [
    "### 布林索引+普通索引選擇指定的列和欄"
   ]
  },
  {
   "cell_type": "code",
   "execution_count": null,
   "metadata": {},
   "outputs": [],
   "source": [
    "df"
   ]
  },
  {
   "cell_type": "code",
   "execution_count": null,
   "metadata": {},
   "outputs": [],
   "source": [
    "df[df[\"年齡\"]<200][[\"訂單編號\",\"年齡\"]]"
   ]
  },
  {
   "cell_type": "markdown",
   "metadata": {},
   "source": [
    "### 切片索引+切片索引選擇指定的列和欄"
   ]
  },
  {
   "cell_type": "code",
   "execution_count": null,
   "metadata": {},
   "outputs": [],
   "source": [
    "#選擇第一到第三列，第二列欄第三欄\n",
    "df"
   ]
  },
  {
   "cell_type": "code",
   "execution_count": null,
   "metadata": {},
   "outputs": [],
   "source": [
    "df.iloc[0:3,1:3]"
   ]
  },
  {
   "cell_type": "markdown",
   "metadata": {},
   "source": [
    "### 開始練習"
   ]
  },
  {
   "cell_type": "code",
   "execution_count": 1,
   "metadata": {},
   "outputs": [
    {
     "data": {
      "text/html": [
       "<div>\n",
       "<style scoped>\n",
       "    .dataframe tbody tr th:only-of-type {\n",
       "        vertical-align: middle;\n",
       "    }\n",
       "\n",
       "    .dataframe tbody tr th {\n",
       "        vertical-align: top;\n",
       "    }\n",
       "\n",
       "    .dataframe thead th {\n",
       "        text-align: right;\n",
       "    }\n",
       "</style>\n",
       "<table border=\"1\" class=\"dataframe\">\n",
       "  <thead>\n",
       "    <tr style=\"text-align: right;\">\n",
       "      <th></th>\n",
       "      <th>日期</th>\n",
       "      <th>產品編號</th>\n",
       "      <th>產品名稱</th>\n",
       "      <th>單價</th>\n",
       "      <th>數量</th>\n",
       "      <th>小計</th>\n",
       "      <th>業務員</th>\n",
       "      <th>店名</th>\n",
       "    </tr>\n",
       "  </thead>\n",
       "  <tbody>\n",
       "    <tr>\n",
       "      <th>0</th>\n",
       "      <td>2014-01-01</td>\n",
       "      <td>LI0059</td>\n",
       "      <td>大筆電(A款)</td>\n",
       "      <td>20500</td>\n",
       "      <td>5</td>\n",
       "      <td>102500</td>\n",
       "      <td>林益妤</td>\n",
       "      <td>南吉</td>\n",
       "    </tr>\n",
       "    <tr>\n",
       "      <th>1</th>\n",
       "      <td>2014-01-01</td>\n",
       "      <td>LI0059</td>\n",
       "      <td>大筆電(A款)</td>\n",
       "      <td>20500</td>\n",
       "      <td>1</td>\n",
       "      <td>20500</td>\n",
       "      <td>陳凱成</td>\n",
       "      <td>陽明</td>\n",
       "    </tr>\n",
       "    <tr>\n",
       "      <th>2</th>\n",
       "      <td>2014-01-01</td>\n",
       "      <td>ET0093</td>\n",
       "      <td>外接硬碟(2TB)</td>\n",
       "      <td>2899</td>\n",
       "      <td>2</td>\n",
       "      <td>5798</td>\n",
       "      <td>羅強信</td>\n",
       "      <td>四維</td>\n",
       "    </tr>\n",
       "    <tr>\n",
       "      <th>3</th>\n",
       "      <td>2014-01-01</td>\n",
       "      <td>ET0093</td>\n",
       "      <td>外接硬碟(2TB)</td>\n",
       "      <td>2899</td>\n",
       "      <td>3</td>\n",
       "      <td>8697</td>\n",
       "      <td>劉智杰</td>\n",
       "      <td>四維</td>\n",
       "    </tr>\n",
       "    <tr>\n",
       "      <th>4</th>\n",
       "      <td>2014-01-01</td>\n",
       "      <td>ET0093</td>\n",
       "      <td>外接硬碟(2TB)</td>\n",
       "      <td>2899</td>\n",
       "      <td>1</td>\n",
       "      <td>2899</td>\n",
       "      <td>陳大鈞</td>\n",
       "      <td>南吉</td>\n",
       "    </tr>\n",
       "    <tr>\n",
       "      <th>...</th>\n",
       "      <td>...</td>\n",
       "      <td>...</td>\n",
       "      <td>...</td>\n",
       "      <td>...</td>\n",
       "      <td>...</td>\n",
       "      <td>...</td>\n",
       "      <td>...</td>\n",
       "      <td>...</td>\n",
       "    </tr>\n",
       "    <tr>\n",
       "      <th>1033</th>\n",
       "      <td>2014-12-31</td>\n",
       "      <td>JR0002</td>\n",
       "      <td>平板電腦(7吋)</td>\n",
       "      <td>7900</td>\n",
       "      <td>5</td>\n",
       "      <td>39500</td>\n",
       "      <td>李克汀</td>\n",
       "      <td>崇德</td>\n",
       "    </tr>\n",
       "    <tr>\n",
       "      <th>1034</th>\n",
       "      <td>2014-12-31</td>\n",
       "      <td>JH0049</td>\n",
       "      <td>桌上電腦(DIY)</td>\n",
       "      <td>14800</td>\n",
       "      <td>1</td>\n",
       "      <td>14800</td>\n",
       "      <td>陳大鈞</td>\n",
       "      <td>南吉</td>\n",
       "    </tr>\n",
       "    <tr>\n",
       "      <th>1035</th>\n",
       "      <td>2014-12-31</td>\n",
       "      <td>JN0070</td>\n",
       "      <td>商用電腦(品牌)</td>\n",
       "      <td>16800</td>\n",
       "      <td>2</td>\n",
       "      <td>33600</td>\n",
       "      <td>周苡祥</td>\n",
       "      <td>新創</td>\n",
       "    </tr>\n",
       "    <tr>\n",
       "      <th>1036</th>\n",
       "      <td>2014-12-31</td>\n",
       "      <td>FX0067</td>\n",
       "      <td>單色雷射列表機</td>\n",
       "      <td>6990</td>\n",
       "      <td>4</td>\n",
       "      <td>27960</td>\n",
       "      <td>趙育佑</td>\n",
       "      <td>南吉</td>\n",
       "    </tr>\n",
       "    <tr>\n",
       "      <th>1037</th>\n",
       "      <td>2014-12-31</td>\n",
       "      <td>BO0078</td>\n",
       "      <td>無線充電行動電源</td>\n",
       "      <td>2090</td>\n",
       "      <td>3</td>\n",
       "      <td>6270</td>\n",
       "      <td>陳傑龍</td>\n",
       "      <td>陽明</td>\n",
       "    </tr>\n",
       "  </tbody>\n",
       "</table>\n",
       "<p>1038 rows × 8 columns</p>\n",
       "</div>"
      ],
      "text/plain": [
       "             日期     產品編號        產品名稱     單價  數量      小計   業務員   店名\n",
       "0    2014-01-01   LI0059     大筆電(A款)  20500   5  102500   林益妤   南吉\n",
       "1    2014-01-01   LI0059     大筆電(A款)  20500   1   20500   陳凱成   陽明\n",
       "2    2014-01-01   ET0093   外接硬碟(2TB)   2899   2    5798   羅強信   四維\n",
       "3    2014-01-01   ET0093   外接硬碟(2TB)   2899   3    8697   劉智杰   四維\n",
       "4    2014-01-01   ET0093   外接硬碟(2TB)   2899   1    2899   陳大鈞   南吉\n",
       "...         ...      ...         ...    ...  ..     ...   ...  ...\n",
       "1033 2014-12-31   JR0002    平板電腦(7吋)   7900   5   39500   李克汀   崇德\n",
       "1034 2014-12-31   JH0049   桌上電腦(DIY)  14800   1   14800   陳大鈞   南吉\n",
       "1035 2014-12-31   JN0070    商用電腦(品牌)  16800   2   33600   周苡祥   新創\n",
       "1036 2014-12-31   FX0067     單色雷射列表機   6990   4   27960   趙育佑   南吉\n",
       "1037 2014-12-31   BO0078    無線充電行動電源   2090   3    6270   陳傑龍   陽明\n",
       "\n",
       "[1038 rows x 8 columns]"
      ]
     },
     "execution_count": 1,
     "metadata": {},
     "output_type": "execute_result"
    }
   ],
   "source": [
    "import pandas as pd\n",
    "df = pd.read_excel(r\"..\\data\\銷售業績.xlsx\")\n",
    "df"
   ]
  },
  {
   "cell_type": "code",
   "execution_count": null,
   "metadata": {},
   "outputs": [],
   "source": [
    "df.info()"
   ]
  },
  {
   "cell_type": "code",
   "execution_count": null,
   "metadata": {},
   "outputs": [],
   "source": [
    "# B欄符合V5內容的，取C欄小於101的，算I欄的平均值\n",
    "df[  df['產品編號']==' JR0002'  ]\n",
    "df1 = df1[  (df1['小計']<10000)  ]\n",
    "df1.mean()"
   ]
  },
  {
   "cell_type": "code",
   "execution_count": null,
   "metadata": {},
   "outputs": [],
   "source": [
    "# B欄符合V5內容的，找到I欄最大值，回傳C欄的內容\n",
    "df1 = df[  df['產品編號']==' JR0002'  ]\n",
    "# df1 = df1.sort_values('小計',ascending=False)\n",
    "df1 = df1[  df1['小計']==df1['小計'].max()  ]\n",
    "df1[['業務員','店名']].drop_duplicates()"
   ]
  },
  {
   "cell_type": "code",
   "execution_count": null,
   "metadata": {},
   "outputs": [],
   "source": [
    "# \n",
    "df[ (df['產品名稱']==' 平板電腦(7吋)')  &  (df['店名'].isin([' 四維',' 陽明' ])) ].sort_values(['店名','業務員']).size"
   ]
  },
  {
   "cell_type": "code",
   "execution_count": null,
   "metadata": {},
   "outputs": [],
   "source": [
    "pd.set_option('display.max_columns',None) #  展示所有行\n",
    "pd.set_option('display.max_rows',None)    #  展示所有列"
   ]
  },
  {
   "cell_type": "code",
   "execution_count": null,
   "metadata": {},
   "outputs": [],
   "source": [
    "#  \n",
    "df[ (df['產品名稱']==' 平板電腦(7吋)')  ].sort_values(['店名','業務員'])"
   ]
  },
  {
   "cell_type": "code",
   "execution_count": 2,
   "metadata": {},
   "outputs": [],
   "source": [
    "sales_s = df['業務員'].drop_duplicates()"
   ]
  },
  {
   "cell_type": "code",
   "execution_count": 3,
   "metadata": {},
   "outputs": [],
   "source": [
    "laptop_df = df[(df['產品名稱'] == ' 平板電腦(7吋)')].sort_values(['店名','業務員'])"
   ]
  },
  {
   "cell_type": "code",
   "execution_count": 4,
   "metadata": {},
   "outputs": [],
   "source": [
    "laptopsales_s = laptop_df['業務員'].drop_duplicates()"
   ]
  },
  {
   "cell_type": "code",
   "execution_count": 6,
   "metadata": {},
   "outputs": [],
   "source": [
    "nosale_s = pd.concat([sales_s,laptopsales_s]).drop_duplicates(keep = False)"
   ]
  },
  {
   "cell_type": "code",
   "execution_count": 7,
   "metadata": {},
   "outputs": [
    {
     "data": {
      "text/plain": [
       "29     陳嘉祥\n",
       "33     黃錦雯\n",
       "Name: 業務員, dtype: object"
      ]
     },
     "execution_count": 7,
     "metadata": {},
     "output_type": "execute_result"
    }
   ],
   "source": [
    "nosale_s"
   ]
  },
  {
   "cell_type": "code",
   "execution_count": null,
   "metadata": {},
   "outputs": [],
   "source": [
    "set1 = set(sales_s)\n",
    "set2 = set(laptopsales_s)"
   ]
  },
  {
   "cell_type": "code",
   "execution_count": null,
   "metadata": {},
   "outputs": [],
   "source": [
    "set1.difference(set2)"
   ]
  },
  {
   "cell_type": "code",
   "execution_count": null,
   "metadata": {},
   "outputs": [],
   "source": [
    "# df[  df['業務員'].isin(nosale_s)  ]\\\n",
    "# .drop_duplicates(subset=['業務員', '店名'])\\\n",
    "# .drop(columns=['日期','產品編號','產品名稱','單價','數量','小計'])"
   ]
  },
  {
   "cell_type": "code",
   "execution_count": null,
   "metadata": {},
   "outputs": [],
   "source": [
    "#  集合的測試 ---- 對稱差集\n",
    "x = {\"apple\", \"banana\", \"cherry\"}\n",
    "y = {\"google\", \"microsoft\", \"apple\"}\n",
    "\n",
    "z = x.symmetric_difference(y)\n",
    "\n",
    "print(z)"
   ]
  },
  {
   "cell_type": "code",
   "execution_count": 21,
   "metadata": {},
   "outputs": [
    {
     "data": {
      "text/plain": [
       "2       banana\n",
       "4       cherry\n",
       "0       google\n",
       "1    microsoft\n",
       "dtype: object"
      ]
     },
     "execution_count": 21,
     "metadata": {},
     "output_type": "execute_result"
    }
   ],
   "source": [
    "s1 = pd.Series([\"apple\", \"apple\",\"banana\", \"banana\", \"cherry\", \"cherry\"]).drop_duplicates()\n",
    "s2 = pd.Series([\"google\", \"microsoft\", \"apple\"]).drop_duplicates()  # 要先讓series如同set一樣，沒有重複元素\n",
    "\n",
    "pd.concat([s1,s2]).drop_duplicates(keep = False)  # symmetric_difference"
   ]
  },
  {
   "cell_type": "code",
   "execution_count": 22,
   "metadata": {},
   "outputs": [
    {
     "data": {
      "text/plain": [
       "0        apple\n",
       "2       banana\n",
       "4       cherry\n",
       "0       google\n",
       "1    microsoft\n",
       "dtype: object"
      ]
     },
     "execution_count": 22,
     "metadata": {},
     "output_type": "execute_result"
    }
   ],
   "source": [
    "s1 = pd.Series([\"apple\", \"apple\",\"banana\", \"banana\", \"cherry\", \"cherry\"]).drop_duplicates()\n",
    "s2 = pd.Series([\"google\", \"microsoft\", \"apple\"]).drop_duplicates()  # 要先讓series如同set一樣，沒有重複元素\n",
    "\n",
    "pd.concat([s1,s2]).drop_duplicates()  # union"
   ]
  },
  {
   "cell_type": "code",
   "execution_count": 23,
   "metadata": {},
   "outputs": [
    {
     "data": {
      "text/plain": [
       "array(['apple', 'banana', 'cherry', 'google', 'microsoft'], dtype=object)"
      ]
     },
     "execution_count": 23,
     "metadata": {},
     "output_type": "execute_result"
    }
   ],
   "source": [
    "s1 = pd.Series([\"apple\", \"apple\",\"banana\", \"banana\", \"cherry\", \"cherry\"]).drop_duplicates()\n",
    "s2 = pd.Series([\"google\", \"microsoft\", \"apple\"]).drop_duplicates()  # 要先讓series如同set一樣，沒有重複元素\n",
    "\n",
    "pd.concat([s1,s2]).unique()  # union"
   ]
  },
  {
   "cell_type": "code",
   "execution_count": 25,
   "metadata": {},
   "outputs": [
    {
     "data": {
      "text/plain": [
       "2    apple\n",
       "dtype: object"
      ]
     },
     "execution_count": 25,
     "metadata": {},
     "output_type": "execute_result"
    }
   ],
   "source": [
    "s1 = pd.Series([\"apple\", \"apple\",\"banana\", \"banana\", \"cherry\", \"cherry\"]).drop_duplicates()\n",
    "s2 = pd.Series([\"google\", \"microsoft\", \"apple\"]).drop_duplicates()  # 要先讓series如同set一樣，沒有重複元素\n",
    "s = pd.concat([s1,s2])\n",
    "s[ s.duplicated() ]  # intersection"
   ]
  },
  {
   "cell_type": "code",
   "execution_count": 29,
   "metadata": {},
   "outputs": [
    {
     "data": {
      "text/plain": [
       "2    banana\n",
       "4    cherry\n",
       "dtype: object"
      ]
     },
     "execution_count": 29,
     "metadata": {},
     "output_type": "execute_result"
    }
   ],
   "source": [
    "s1 = pd.Series([\"apple\", \"apple\",\"banana\", \"banana\", \"cherry\", \"cherry\"]).drop_duplicates()\n",
    "s2 = pd.Series([\"google\", \"microsoft\", \"apple\"]).drop_duplicates()  # 要先讓series如同set一樣，沒有重複元素\n",
    "s = pd.concat([s1,s2,s2])\n",
    "s.drop_duplicates(keep = False)  # difference s1-s2"
   ]
  },
  {
   "cell_type": "code",
   "execution_count": 30,
   "metadata": {},
   "outputs": [
    {
     "data": {
      "text/plain": [
       "0       google\n",
       "1    microsoft\n",
       "dtype: object"
      ]
     },
     "execution_count": 30,
     "metadata": {},
     "output_type": "execute_result"
    }
   ],
   "source": [
    "s1 = pd.Series([\"apple\", \"apple\",\"banana\", \"banana\", \"cherry\", \"cherry\"]).drop_duplicates()\n",
    "s2 = pd.Series([\"google\", \"microsoft\", \"apple\"]).drop_duplicates()  # 要先讓series如同set一樣，沒有重複元素\n",
    "s = pd.concat([s2,s1,s1])\n",
    "s.drop_duplicates(keep = False)  # difference s2-s1"
   ]
  },
  {
   "cell_type": "code",
   "execution_count": null,
   "metadata": {},
   "outputs": [],
   "source": [
    "import pandas as pd\n",
    "df = pd.read_excel(r\"..\\data\\銷售業績.xlsx\")\n",
    "df"
   ]
  },
  {
   "cell_type": "code",
   "execution_count": null,
   "metadata": {},
   "outputs": [],
   "source": [
    "df['產品名稱'].unique()"
   ]
  },
  {
   "cell_type": "code",
   "execution_count": null,
   "metadata": {},
   "outputs": [],
   "source": [
    "df[ ~df['產品名稱'].duplicated() ]"
   ]
  },
  {
   "cell_type": "code",
   "execution_count": null,
   "metadata": {},
   "outputs": [],
   "source": [
    "df[ ~df['日期'].duplicated(keep=False) ]"
   ]
  },
  {
   "cell_type": "code",
   "execution_count": null,
   "metadata": {},
   "outputs": [],
   "source": []
  },
  {
   "cell_type": "code",
   "execution_count": 31,
   "metadata": {},
   "outputs": [],
   "source": [
    "s1 = pd.Series([\"apple\", \"apple\",\"banana\", \"banana\", \"cherry\", \"cherry\"]).drop_duplicates()\n",
    "s2 = pd.Series([\"google\", \"microsoft\", \"apple\"]).drop_duplicates()  # 要先讓series如同set一樣，沒有重複元素\n",
    "\n",
    "對稱差集 = pd.concat([s1,s2]).drop_duplicates(keep = False)  # symmetric_difference\n",
    "\n",
    "聯集 = pd.concat([s1,s2]).drop_duplicates()  # union\n",
    "\n",
    "s = pd.concat([s1,s2])\n",
    "交集 = s[ s.duplicated() ]  # intersection\n",
    "\n",
    "s = pd.concat([s1,s2,s2])\n",
    "差集1 = s.drop_duplicates(keep = False)  # difference s1-s2\n",
    "\n",
    "s = pd.concat([s2,s1,s1])\n",
    "差集2 = s.drop_duplicates(keep = False)  # difference s2-s1"
   ]
  },
  {
   "cell_type": "code",
   "execution_count": 33,
   "metadata": {},
   "outputs": [
    {
     "name": "stdout",
     "output_type": "stream",
     "text": [
      "['banana', 'cherry', 'google', 'microsoft']\n",
      "['apple', 'banana', 'cherry', 'google', 'microsoft']\n",
      "['apple']\n",
      "['banana', 'cherry']\n",
      "['google', 'microsoft']\n"
     ]
    }
   ],
   "source": [
    "print(list(對稱差集))\n",
    "print(list(聯集))\n",
    "print(list(交集))\n",
    "print(list(差集1))\n",
    "print(list(差集2))"
   ]
  },
  {
   "cell_type": "code",
   "execution_count": null,
   "metadata": {},
   "outputs": [],
   "source": []
  }
 ],
 "metadata": {
  "kernelspec": {
   "display_name": "Python 3 (ipykernel)",
   "language": "python",
   "name": "python3"
  },
  "language_info": {
   "codemirror_mode": {
    "name": "ipython",
    "version": 3
   },
   "file_extension": ".py",
   "mimetype": "text/x-python",
   "name": "python",
   "nbconvert_exporter": "python",
   "pygments_lexer": "ipython3",
   "version": "3.9.12"
  },
  "toc": {
   "base_numbering": "6",
   "nav_menu": {},
   "number_sections": true,
   "sideBar": true,
   "skip_h1_title": false,
   "title_cell": "Table of Contents",
   "title_sidebar": "Contents",
   "toc_cell": false,
   "toc_position": {
    "height": "calc(100% - 180px)",
    "left": "10px",
    "top": "150px",
    "width": "320px"
   },
   "toc_section_display": true,
   "toc_window_display": true
  }
 },
 "nbformat": 4,
 "nbformat_minor": 2
}
